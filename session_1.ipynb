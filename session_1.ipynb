{
 "cells": [
  {
   "cell_type": "code",
   "execution_count": 1,
   "id": "45bc8de5-c941-4399-a50a-522bae310229",
   "metadata": {},
   "outputs": [
    {
     "name": "stdout",
     "output_type": "stream",
     "text": [
      "30\n"
     ]
    }
   ],
   "source": [
    "a=10\n",
    "b=20\n",
    "c=a+b\n",
    "print(c)"
   ]
  },
  {
   "cell_type": "code",
   "execution_count": 3,
   "id": "4851c617-629c-4392-9a9c-b46afbbbc700",
   "metadata": {},
   "outputs": [
    {
     "data": {
      "text/plain": [
       "'C:\\\\Users\\\\vaibh\\\\Documents\\\\NareshIT\\\\python_sessions'"
      ]
     },
     "execution_count": 3,
     "metadata": {},
     "output_type": "execute_result"
    }
   ],
   "source": [
    "import os\n",
    "os.getcwd()\n",
    "# Get current Working directory"
   ]
  },
  {
   "cell_type": "code",
   "execution_count": null,
   "id": "5e0b7e52-ee14-4a7a-91ae-88618e0422f8",
   "metadata": {},
   "outputs": [],
   "source": [
    "# checkpoint No-1 :\n",
    "# empty square bracket before the code cell\n",
    "# indicates we did not run the cell\n",
    "\n",
    "#checkpoint-2:\n",
    "# if we see a * mark inside square bracket \n",
    "# the same we can observe the top left corner blabkout \n",
    "\n",
    "# star mark indicates kernel is busy\n",
    "#the same we can observe the top left corner "
   ]
  },
  {
   "cell_type": "code",
   "execution_count": 7,
   "id": "960c0d0e-cbef-4e2e-a610-94f1b8854c9b",
   "metadata": {},
   "outputs": [],
   "source": [
    "name=\"omkar\""
   ]
  },
  {
   "cell_type": "code",
   "execution_count": 9,
   "id": "434bce2f-5442-4dd0-9719-bd4a1890d33e",
   "metadata": {},
   "outputs": [
    {
     "data": {
      "text/plain": [
       "'omkar'"
      ]
     },
     "execution_count": 9,
     "metadata": {},
     "output_type": "execute_result"
    }
   ],
   "source": [
    "name"
   ]
  },
  {
   "cell_type": "markdown",
   "id": "6bf1971e-20f4-4f3c-b8f0-b46b5cb4fb3c",
   "metadata": {},
   "source": [
    "hello today i am learning python\n",
    "\n",
    "sqaure bracket is there : yes\n",
    "\n",
    "code mode is there : yes\n",
    "\n",
    "if these two are there which indicates this current cell used for to write (code) only \n",
    "\n",
    "if write english i will throw error \n",
    "\n",
    "go to top code mode after drop down symbol is there \n",
    "\n",
    "click on that \n",
    "\n",
    "we can see (markdown option)\n",
    "\n",
    "select it we can see any square bracket "
   ]
  },
  {
   "cell_type": "markdown",
   "id": "29ab304f-8534-4a01-aec0-b647b07172ea",
   "metadata": {},
   "source": [
    "# Python \n",
    "\n",
    "- esc+m will change code mode to markdown mode \n",
    "\n",
    "- esc+y will change markdown mode to code mode\n",
    "\n",
    "- shift+ enter \n"
   ]
  },
  {
   "cell_type": "markdown",
   "id": "4265ae2e-f540-4d42-89f3-2e996e3e9e1d",
   "metadata": {},
   "source": [
    "# Python \n",
    "\n",
    "## Python \n",
    "\n",
    "### Python "
   ]
  },
  {
   "cell_type": "markdown",
   "id": "3e1b2db4-4b90-495c-aa22-c1d5106843f5",
   "metadata": {},
   "source": [
    "**Now i will show to upload image**\n",
    "\n",
    "- but this will works for only some people\n",
    "\n",
    "- dont worry "
   ]
  },
  {
   "cell_type": "markdown",
   "id": "92368d82-ff62-48e4-b292-26cf62a1540f",
   "metadata": {},
   "source": [
    "<img id=\"dimg_1nZzZ9-WKuiOseMP7uac6QM_319\" src=\"data:image/png;base64,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\" class=\"YQ4gaf\" height=\"225\" style=\"object-position:50% 46%\" width=\"225\" alt=\"What is Python Coding? | Juni Learning\" data-csiid=\"1nZzZ9-WKuiOseMP7uac6QM_54\" data-atf=\"4\">"
   ]
  },
  {
   "cell_type": "code",
   "execution_count": null,
   "id": "c9d4a7f9-0edd-47a1-8d6c-e167d947d02e",
   "metadata": {},
   "outputs": [
    {
     "name": "stdin",
     "output_type": "stream",
     "text": [
      "Enter your name here :  Anupam Gupta\n"
     ]
    },
    {
     "name": "stdout",
     "output_type": "stream",
     "text": [
      "Ok Well , Mr.Anupam Gupta this is a calculator program You can perform oprations like :\n",
      "Addition\n",
      "Subtraction\n",
      "Multiplication\n",
      "Division\n",
      "Now , You can choose options for Operations Like :\n",
      "1 For Addition \n",
      "2 For Multiplication \n",
      "3 For Subtraction \n",
      "4 For Division \n"
     ]
    }
   ],
   "source": [
    "import time\n",
    "def Add():\n",
    "    n1=eval(input(\"enter first number : \"))\n",
    "    n2=eval(input(\"enter second number : \"))\n",
    "    summ=n1+n2\n",
    "    print(f\"The addition of {n1} and {n2} is : {summ}\")\n",
    "\n",
    "def Multiplication():\n",
    "    n1=eval(input(\"enter first number : \"))\n",
    "    n2=eval(input(\"enter second number : \"))\n",
    "    multiplication=n1*n2\n",
    "    print(f\"The Multiplication  of {n1} and {n2} is : {multiplication}\")\n",
    "\n",
    "def Subtraction():\n",
    "    n1=eval(input(\"enter first number :\"))\n",
    "    n2=eval(input(\"enter second number : \"))\n",
    "    subtraction=n1-n2\n",
    "    print(f\"The subtraction of {n1} and {n2} is : {subtraction}\")\n",
    "\n",
    "def Division():\n",
    "    n1=eval(input(\"enter first number : \"))\n",
    "    n2=eval(input(\"enter second number : \"))\n",
    "    division=n1/n2\n",
    "    print(f\"The Division of {n1} and {n2} is : {division}\")\n",
    "name=input(\"Enter your name here : \")\n",
    "time.sleep(2)\n",
    "print(f\"Ok Well , Mr.{name} this is a calculator program You can perform oprations like :\")\n",
    "time.sleep(3)\n",
    "print(\"Addition\")\n",
    "time.sleep(1)\n",
    "print(\"Subtraction\")\n",
    "time.sleep(1)\n",
    "print(\"Multiplication\")\n",
    "time.sleep(1)\n",
    "print(\"Division\")\n",
    "time.sleep(1)\n",
    "print(\"Now , You can choose options for Operations Like :\")\n",
    "time.sleep(2)\n",
    "print(\"1 For Addition \")\n",
    "time.sleep(1)\n",
    "print(\"2 For Multiplication \") \n",
    "time.sleep(1)\n",
    "print(\"3 For Subtraction \")\n",
    "time.sleep(1)\n",
    "print(\"4 For Division \")\n",
    "time.sleep(1)\n",
    "option=eval(input(\"Choose option between 1 To 4 : \"))\n",
    "if option==1:\n",
    "    print(\"Now you can perform Addition operation\")\n",
    "    Add()\n",
    "elif option==2:\n",
    "    print(\"Now you can perform subtraction operation\")\n",
    "    Subtraction()\n",
    "elif option==3:\n",
    "    print(\"Now you can perform multiplication operation\")\n",
    "    Multiplication()\n",
    "elif option==4:\n",
    "    Division()    \n"
   ]
  },
  {
   "cell_type": "code",
   "execution_count": null,
   "id": "36ee49e2-8c9c-4b66-a83d-c63721496961",
   "metadata": {},
   "outputs": [],
   "source": []
  }
 ],
 "metadata": {
  "kernelspec": {
   "display_name": "Python [conda env:base] *",
   "language": "python",
   "name": "conda-base-py"
  },
  "language_info": {
   "codemirror_mode": {
    "name": "ipython",
    "version": 3
   },
   "file_extension": ".py",
   "mimetype": "text/x-python",
   "name": "python",
   "nbconvert_exporter": "python",
   "pygments_lexer": "ipython3",
   "version": "3.12.7"
  }
 },
 "nbformat": 4,
 "nbformat_minor": 5
}
