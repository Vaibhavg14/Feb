{
 "cells": [
  {
   "cell_type": "markdown",
   "id": "0d552dcf-e51c-4d50-a27e-e3feeba29cfd",
   "metadata": {},
   "source": [
    "# Variables"
   ]
  },
  {
   "cell_type": "markdown",
   "id": "068f02bb-5399-416d-8681-dba059b9d0fe",
   "metadata": {},
   "source": [
    "- dont do over actions \n",
    "- only actions \n",
    "- listen the classs properly\n",
    "- chat with chatgpt"
   ]
  },
  {
   "cell_type": "markdown",
   "id": "4e10d4c0-58df-4eb2-8867-a6624b0fb016",
   "metadata": {},
   "source": [
    "- Variables are use to store the data \n",
    "\n",
    "- The data can be change\n",
    "\n",
    "- These Variables can be used to manipulate python code "
   ]
  },
  {
   "cell_type": "code",
   "execution_count": 4,
   "id": "367885f4-7f62-47cf-96d0-10ae22b13e55",
   "metadata": {},
   "outputs": [
    {
     "data": {
      "text/plain": [
       "100"
      ]
     },
     "execution_count": 4,
     "metadata": {},
     "output_type": "execute_result"
    }
   ],
   "source": [
    "number=100 \n",
    "# 100 is stored in a variable called as number\n",
    "number"
   ]
  },
  {
   "cell_type": "code",
   "execution_count": 6,
   "id": "d9328389-9774-49b5-add8-4d7dc9e27166",
   "metadata": {},
   "outputs": [
    {
     "data": {
      "text/plain": [
       "200"
      ]
     },
     "execution_count": 6,
     "metadata": {},
     "output_type": "execute_result"
    }
   ],
   "source": [
    "NUMBER=200\n",
    "NUMBER"
   ]
  },
  {
   "cell_type": "code",
   "execution_count": 8,
   "id": "15c18ca1-8d5b-49bb-836c-45e1d208faa8",
   "metadata": {},
   "outputs": [
    {
     "data": {
      "text/plain": [
       "(100, 200)"
      ]
     },
     "execution_count": 8,
     "metadata": {},
     "output_type": "execute_result"
    }
   ],
   "source": [
    "number,NUMBER"
   ]
  },
  {
   "cell_type": "code",
   "execution_count": 10,
   "id": "efab1f55-e7a5-4ee3-a1b8-5c482e29853d",
   "metadata": {},
   "outputs": [
    {
     "data": {
      "text/plain": [
       "300"
      ]
     },
     "execution_count": 10,
     "metadata": {},
     "output_type": "execute_result"
    }
   ],
   "source": [
    "NUMber=300\n",
    "NUMber"
   ]
  },
  {
   "cell_type": "code",
   "execution_count": 12,
   "id": "043899ba-ba52-41dc-9947-86aaa7363154",
   "metadata": {},
   "outputs": [
    {
     "data": {
      "text/plain": [
       "(100, 200, 300)"
      ]
     },
     "execution_count": 12,
     "metadata": {},
     "output_type": "execute_result"
    }
   ],
   "source": [
    "number,NUMBER,NUMber"
   ]
  },
  {
   "cell_type": "code",
   "execution_count": 14,
   "id": "8076c471-8293-4922-8db3-8f6984c80626",
   "metadata": {},
   "outputs": [
    {
     "data": {
      "text/plain": [
       "400"
      ]
     },
     "execution_count": 14,
     "metadata": {},
     "output_type": "execute_result"
    }
   ],
   "source": [
    "number123=400\n",
    "number123"
   ]
  },
  {
   "cell_type": "code",
   "execution_count": null,
   "id": "7c3c3c68-b3bd-435c-bb83-683639d86d62",
   "metadata": {},
   "outputs": [],
   "source": [
    "123number=500\n",
    "123number"
   ]
  },
  {
   "cell_type": "code",
   "execution_count": null,
   "id": "7e9b5899-4bf0-48ac-929e-10fb23fdde7d",
   "metadata": {},
   "outputs": [],
   "source": [
    "#type first two letters then click on tab button\n",
    "num"
   ]
  },
  {
   "cell_type": "markdown",
   "id": "b4356808-0b25-48b2-9ba1-b03a00127961",
   "metadata": {},
   "source": [
    "**Note**\n",
    "\n",
    "- Variables generally in black color\n",
    "\n",
    "- Green color should not be a variables \n",
    "\n",
    "- number as suffix can work\n",
    "\n",
    "- number as prefix fail"
   ]
  },
  {
   "cell_type": "code",
   "execution_count": 17,
   "id": "93000a3b-93e6-4711-99fc-5e506492c489",
   "metadata": {},
   "outputs": [
    {
     "ename": "SyntaxError",
     "evalue": "invalid syntax (988349833.py, line 1)",
     "output_type": "error",
     "traceback": [
      "\u001b[1;36m  Cell \u001b[1;32mIn[17], line 1\u001b[1;36m\u001b[0m\n\u001b[1;33m    number$=600\u001b[0m\n\u001b[1;37m          ^\u001b[0m\n\u001b[1;31mSyntaxError\u001b[0m\u001b[1;31m:\u001b[0m invalid syntax\n"
     ]
    }
   ],
   "source": [
    "number$=600\n",
    "number$"
   ]
  },
  {
   "cell_type": "markdown",
   "id": "556f1136-ee1b-4ec3-8abc-2d60031fe582",
   "metadata": {},
   "source": [
    "- special character does not allowed"
   ]
  },
  {
   "cell_type": "code",
   "execution_count": 22,
   "id": "17b6fbd3-a9ee-4c8b-a697-1375ee4a11fb",
   "metadata": {},
   "outputs": [
    {
     "ename": "SyntaxError",
     "evalue": "invalid syntax (1705667550.py, line 1)",
     "output_type": "error",
     "traceback": [
      "\u001b[1;36m  Cell \u001b[1;32mIn[22], line 1\u001b[1;36m\u001b[0m\n\u001b[1;33m    number one=200\u001b[0m\n\u001b[1;37m           ^\u001b[0m\n\u001b[1;31mSyntaxError\u001b[0m\u001b[1;31m:\u001b[0m invalid syntax\n"
     ]
    }
   ],
   "source": [
    "number one=200\n",
    "number"
   ]
  },
  {
   "cell_type": "markdown",
   "id": "dcc142fb-c180-457c-9d89-9fbaec548c1b",
   "metadata": {},
   "source": [
    "- space also a special character"
   ]
  },
  {
   "cell_type": "code",
   "execution_count": 25,
   "id": "6279ddc8-c629-4a6a-bdcd-ec944692998b",
   "metadata": {},
   "outputs": [
    {
     "data": {
      "text/plain": [
       "300"
      ]
     },
     "execution_count": 25,
     "metadata": {},
     "output_type": "execute_result"
    }
   ],
   "source": [
    "number_one=300\n",
    "number_one"
   ]
  },
  {
   "cell_type": "markdown",
   "id": "88acd13c-2811-4879-a68b-4afb4fdd52c9",
   "metadata": {},
   "source": [
    "- Underscore can use as variable"
   ]
  },
  {
   "cell_type": "code",
   "execution_count": 31,
   "id": "4d30c0e5-13eb-44b4-9c50-3152f4544edf",
   "metadata": {},
   "outputs": [
    {
     "data": {
      "text/plain": [
       "1000"
      ]
     },
     "execution_count": 31,
     "metadata": {},
     "output_type": "execute_result"
    }
   ],
   "source": [
    "_=1000\n",
    "_"
   ]
  },
  {
   "cell_type": "code",
   "execution_count": null,
   "id": "54d2b9e9-439f-4090-9ee3-80530a22d88c",
   "metadata": {},
   "outputs": [],
   "source": [
    "if=1000"
   ]
  },
  {
   "cell_type": "code",
   "execution_count": null,
   "id": "d8128197-6e18-468c-91ce-db305aec41ce",
   "metadata": {},
   "outputs": [],
   "source": [
    "for \n",
    "while\n",
    "True \n",
    "False"
   ]
  },
  {
   "cell_type": "markdown",
   "id": "8083ba4e-212d-4c00-8cba-574f56250194",
   "metadata": {},
   "source": [
    "- keyword can not use as Variable"
   ]
  },
  {
   "cell_type": "code",
   "execution_count": null,
   "id": "4d84f4d7-f123-497a-aee2-a623ea9a3c21",
   "metadata": {},
   "outputs": [],
   "source": []
  }
 ],
 "metadata": {
  "kernelspec": {
   "display_name": "Python [conda env:base] *",
   "language": "python",
   "name": "conda-base-py"
  },
  "language_info": {
   "codemirror_mode": {
    "name": "ipython",
    "version": 3
   },
   "file_extension": ".py",
   "mimetype": "text/x-python",
   "name": "python",
   "nbconvert_exporter": "python",
   "pygments_lexer": "ipython3",
   "version": "3.12.7"
  }
 },
 "nbformat": 4,
 "nbformat_minor": 5
}
